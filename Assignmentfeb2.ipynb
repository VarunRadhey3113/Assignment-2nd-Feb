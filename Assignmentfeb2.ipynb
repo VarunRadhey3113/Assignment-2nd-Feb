{
 "cells": [
  {
   "cell_type": "code",
   "execution_count": 1,
   "id": "d4898d70-31eb-48c2-aa00-77c1482657ea",
   "metadata": {},
   "outputs": [],
   "source": [
    "# Q1.   Explain with an example each when to use a for and a while loop.\n",
    "# Ans:- For loop:-   When we already know number of iteration or we know how many times a statement has to be executed we use for loop. \n",
    "#                  * Not necessary to give condition.\n",
    "#                  * Not necessary to give increamenting value it iterates in a give range or list.\n",
    "#       While loop:- When we don't know number of iteration we use while loop.\n",
    "#                  * Condition are required.\n",
    "#                  * Necessary to give increamenting value otherwise program unable to understand where to stop loop and become loop infinite."
   ]
  },
  {
   "cell_type": "code",
   "execution_count": 2,
   "id": "e22adb2c-55ce-40ee-9ef9-eaebed01ac81",
   "metadata": {},
   "outputs": [
    {
     "name": "stdout",
     "output_type": "stream",
     "text": [
      "1\n",
      "4\n",
      "9\n",
      "16\n",
      "25\n"
     ]
    }
   ],
   "source": [
    "# example to find square of the list\n",
    "lis1 = [1,2,3,4,5]\n",
    "for i in lis1:\n",
    "    print(i**2)"
   ]
  },
  {
   "cell_type": "code",
   "execution_count": 11,
   "id": "db85053e-57e3-4532-b0ff-623c23aa0f56",
   "metadata": {},
   "outputs": [
    {
     "name": "stdout",
     "output_type": "stream",
     "text": [
      "1\n",
      "4\n",
      "9\n",
      "16\n",
      "25\n"
     ]
    }
   ],
   "source": [
    "# example of while loop to find square number from 1 to 5\n",
    "i = 0\n",
    "while i < 5:\n",
    "    i+=1\n",
    "    print(i**2)\n",
    "                "
   ]
  },
  {
   "cell_type": "code",
   "execution_count": 10,
   "id": "3396b02d-6e35-4e05-82b1-ee25ec544a44",
   "metadata": {},
   "outputs": [],
   "source": [
    "# Q2.   Write a python program to print the sum and product of the first 10 natural number using for and while loop.\n",
    "\n",
    "# Ans:-        "
   ]
  },
  {
   "cell_type": "code",
   "execution_count": 12,
   "id": "1ad2118a-77ca-4f19-849d-e7ebc1ae42f2",
   "metadata": {},
   "outputs": [
    {
     "name": "stdout",
     "output_type": "stream",
     "text": [
      "Sum of first 10 natural numbers are =  55\n",
      "Product of first 10 natural numbers are =  3628800\n"
     ]
    }
   ],
   "source": [
    "# solution 2 using for loop\n",
    "sum = 0\n",
    "product = 1\n",
    "for i in range(1,11) :\n",
    "    sum = sum + i\n",
    "    product = product * i\n",
    "print(\"Sum of first 10 natural numbers are = \", sum)\n",
    "print(\"Product of first 10 natural numbers are = \", product)\n",
    "    "
   ]
  },
  {
   "cell_type": "code",
   "execution_count": 11,
   "id": "35b1c3f5-1b73-466c-98d4-fff23c8472cd",
   "metadata": {},
   "outputs": [
    {
     "name": "stdout",
     "output_type": "stream",
     "text": [
      "Sum of first 10 natural numbers are =  55\n",
      "Product of first 10 natural numbers are =  3628800\n"
     ]
    }
   ],
   "source": [
    "# solution using while loop\n",
    "i = 1 \n",
    "sum = 0\n",
    "product = 1\n",
    "while(i<=10):\n",
    "    sum = sum + i\n",
    "    product = product * i\n",
    "    i = i + 1\n",
    "print(\"Sum of first 10 natural numbers are = \", sum)\n",
    "print(\"Product of first 10 natural numbers are = \", product)"
   ]
  },
  {
   "cell_type": "code",
   "execution_count": null,
   "id": "af3bcd3b-46c2-41a0-b318-4ebe3944e78f",
   "metadata": {},
   "outputs": [],
   "source": []
  },
  {
   "cell_type": "code",
   "execution_count": 3,
   "id": "5041dc70-3dc2-4907-b548-6d68b788ab61",
   "metadata": {},
   "outputs": [],
   "source": [
    "# Q3.  Creat a python program to compute te electric bill for a hosehold.\n",
    "#      The per-unit charges in rupees are as follows : For 100 units, the user will be charged Rs. 4.5 per unit, for the next 100 units, the user will be charged Rs. 6 per unit,\n",
    "#      and for the next 100 units, the user will be charged Rs. 10 per unit, After 300 units and  above the user will be charged Rs. 20 per unit.\n",
    "\n",
    "#      You are required to take the units of electricity consumed in a month from the user as input.\n",
    "#      Must pass this case: When the unit of electricity consumed by the user in a month is 310, the total electricity bill should be 2250."
   ]
  },
  {
   "cell_type": "code",
   "execution_count": 28,
   "id": "c48cc26c-b4c8-43d9-ab3d-152013bd68f9",
   "metadata": {},
   "outputs": [
    {
     "name": "stdout",
     "output_type": "stream",
     "text": [
      "Enter your monthly electricity consumed unit\n"
     ]
    },
    {
     "name": "stdout",
     "output_type": "stream",
     "text": [
      " 450\n"
     ]
    },
    {
     "name": "stdout",
     "output_type": "stream",
     "text": [
      "Your electric bill for unit 450 is = Rs. 5050\n"
     ]
    }
   ],
   "source": [
    "print(\"Enter your monthly electricity consumed unit\")\n",
    "electric_unit=int(input())\n",
    "if electric_unit <= 100:\n",
    "    price = electric_unit * 4.5\n",
    "    print(\"Your electric bill for unit\", electric_unit , \"is = Rs.\",price)\n",
    "elif electric_unit <= 200 :\n",
    "    price2 =( electric_unit - 100) * 6\n",
    "    price2 = price2 + 450\n",
    "    print(\"Your electric bill for unit\", electric_unit , \"is = Rs.\",price2)\n",
    "elif electric_unit <= 300 :\n",
    "    price3 =( electric_unit - 200) * 10\n",
    "    price3 = price3 + 1050\n",
    "    print(\"Your electric bill for unit\", electric_unit , \"is = Rs.\",price3)\n",
    "else:\n",
    "    price4 = (electric_unit - 300) * 20\n",
    "    price4 = price4 + 2050\n",
    "    print(\"Your electric bill for unit\", electric_unit , \"is = Rs.\", price4)"
   ]
  },
  {
   "cell_type": "code",
   "execution_count": 13,
   "id": "1688b200-e7e1-40d0-b179-2b8954675683",
   "metadata": {},
   "outputs": [],
   "source": [
    "# Q4.  Creat a list of numbers form 1 to 100. Use for loop and while loop to calculate the cube of each \n",
    "#     number an if the cube of that number is divisible by 4 or 5 then append that number in a list and print that list print that list."
   ]
  },
  {
   "cell_type": "code",
   "execution_count": 1,
   "id": "41d276d8-0e2b-40ea-a3a9-13ac6c2086d9",
   "metadata": {},
   "outputs": [],
   "source": [
    "l = range(1,101)"
   ]
  },
  {
   "cell_type": "code",
   "execution_count": 5,
   "id": "fd7068dd-81fa-4b0d-9ed5-0e7f97ee5ae7",
   "metadata": {},
   "outputs": [
    {
     "name": "stdout",
     "output_type": "stream",
     "text": [
      "[8, 64, 125, 216, 512, 1000, 1728, 2744, 3375, 4096, 5832, 8000, 10648, 13824, 15625, 17576, 21952, 27000, 32768, 39304, 42875, 46656, 54872, 64000, 74088, 85184, 91125, 97336, 110592, 125000, 140608, 157464, 166375, 175616, 195112, 216000, 238328, 262144, 274625, 287496, 314432, 343000, 373248, 405224, 421875, 438976, 474552, 512000, 551368, 592704, 614125, 636056, 681472, 729000, 778688, 830584, 857375, 884736, 941192, 1000000] "
     ]
    }
   ],
   "source": [
    "l1 = []\n",
    "\n",
    "for i in l:\n",
    "    i = i**3\n",
    "    if i % 4 == 0 or i % 5 == 0:\n",
    "        l1.append(i)\n",
    "print(l1,end=\" \")"
   ]
  },
  {
   "cell_type": "code",
   "execution_count": null,
   "id": "74849300-aebc-4063-843a-d8ccd4e9c73a",
   "metadata": {},
   "outputs": [],
   "source": []
  },
  {
   "cell_type": "code",
   "execution_count": 5,
   "id": "dec54c9e-92b7-49eb-892b-4ddbede2326f",
   "metadata": {},
   "outputs": [],
   "source": [
    "# Q5.  Write a program to filter count vowels in the below-given string. \n",
    "#     string = \"I want to become a data scientist\"."
   ]
  },
  {
   "cell_type": "code",
   "execution_count": 20,
   "id": "7bcc9608-8ccf-4697-9ff1-2bc685a5d202",
   "metadata": {},
   "outputs": [
    {
     "name": "stdout",
     "output_type": "stream",
     "text": [
      "Total number of vowels present in string =  11\n"
     ]
    }
   ],
   "source": [
    "string = \"I want to become a data scientist\"\n",
    "vowels = ['a', 'e' , 'i' , 'o' , 'u']\n",
    "count = 0\n",
    "for characters in string:\n",
    "    if characters in vowels:\n",
    "        count = count + 1\n",
    "print(\"Total number of vowels present in string = \", count)"
   ]
  },
  {
   "cell_type": "code",
   "execution_count": null,
   "id": "e2f31e31-8bd4-4fbe-8a61-3e585caa23f3",
   "metadata": {},
   "outputs": [],
   "source": []
  }
 ],
 "metadata": {
  "kernelspec": {
   "display_name": "Python 3 (ipykernel)",
   "language": "python",
   "name": "python3"
  },
  "language_info": {
   "codemirror_mode": {
    "name": "ipython",
    "version": 3
   },
   "file_extension": ".py",
   "mimetype": "text/x-python",
   "name": "python",
   "nbconvert_exporter": "python",
   "pygments_lexer": "ipython3",
   "version": "3.10.6"
  }
 },
 "nbformat": 4,
 "nbformat_minor": 5
}
